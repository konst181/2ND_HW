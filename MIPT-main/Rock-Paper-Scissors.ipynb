{
 "cells": [
  {
   "cell_type": "code",
   "execution_count": 1,
   "id": "bb9d3453",
   "metadata": {},
   "outputs": [],
   "source": [
    "!pip install -q -U kaggle_environments"
   ]
  },
  {
   "cell_type": "code",
   "execution_count": 2,
   "id": "5f9cfbbb",
   "metadata": {},
   "outputs": [],
   "source": [
    "import random\n",
    "import numpy as np\n",
    "import pandas as pd\n",
    "\n",
    "import matplotlib.pyplot as plt\n",
    "import seaborn as sns\n",
    "\n",
    "from kaggle_environments import make, evaluate\n",
    "from pprint import pprint"
   ]
  },
  {
   "cell_type": "markdown",
   "id": "cb8f77ff",
   "metadata": {},
   "source": [
    "### Бот, всегда играющий камнем"
   ]
  },
  {
   "cell_type": "code",
   "execution_count": 7,
   "id": "341346c7",
   "metadata": {},
   "outputs": [
    {
     "name": "stdout",
     "output_type": "stream",
     "text": [
      "Writing rock_agent.py\n"
     ]
    }
   ],
   "source": [
    "%%writefile rock_agent.py\n",
    "\n",
    "def rock_agent(observation, configuration):\n",
    "    return 0"
   ]
  },
  {
   "cell_type": "code",
   "execution_count": 9,
   "id": "038887fe",
   "metadata": {},
   "outputs": [
    {
     "data": {
      "text/plain": [
       "[[-98.0, 98.0]]"
      ]
     },
     "execution_count": 9,
     "metadata": {},
     "output_type": "execute_result"
    }
   ],
   "source": [
    "evaluate(\n",
    "    \"rps\", #environment to use - no need to change\n",
    "    [\"rock_agent.py\", \"statistical\"], #agents to evaluate\n",
    "    configuration={\"episodeSteps\": 100}, #number of episodes\n",
    ")"
   ]
  },
  {
   "cell_type": "markdown",
   "id": "136a6ac7",
   "metadata": {},
   "source": [
    "### Бот, всегда играющий бумагой"
   ]
  },
  {
   "cell_type": "code",
   "execution_count": 11,
   "id": "bcfe3464",
   "metadata": {},
   "outputs": [
    {
     "name": "stdout",
     "output_type": "stream",
     "text": [
      "Writing paper_agent.py\n"
     ]
    }
   ],
   "source": [
    "%%writefile paper_agent.py\n",
    "\n",
    "def paper_agent(observation, configuration):\n",
    "    return 1"
   ]
  },
  {
   "cell_type": "code",
   "execution_count": 12,
   "id": "1665b49f",
   "metadata": {},
   "outputs": [
    {
     "data": {
      "text/plain": [
       "[[-97.0, 97.0]]"
      ]
     },
     "execution_count": 12,
     "metadata": {},
     "output_type": "execute_result"
    }
   ],
   "source": [
    "evaluate(\n",
    "    \"rps\", #environment to use - no need to change\n",
    "    [\"paper_agent.py\", \"statistical\"], #agents to evaluate\n",
    "    configuration={\"episodeSteps\": 100} #number of episodes \n",
    ")"
   ]
  },
  {
   "cell_type": "markdown",
   "id": "14fe5642",
   "metadata": {},
   "source": [
    "### Бот, всегда играющий ножницами"
   ]
  },
  {
   "cell_type": "code",
   "execution_count": 14,
   "id": "85299883",
   "metadata": {},
   "outputs": [
    {
     "name": "stdout",
     "output_type": "stream",
     "text": [
      "Writing scissors_agent.py\n"
     ]
    }
   ],
   "source": [
    "%%writefile scissors_agent.py\n",
    "\n",
    "def scissors_agent(observation, configuration):\n",
    "    return 2"
   ]
  },
  {
   "cell_type": "code",
   "execution_count": 15,
   "id": "7fed2fab",
   "metadata": {},
   "outputs": [
    {
     "data": {
      "text/plain": [
       "[[-99.0, 99.0]]"
      ]
     },
     "execution_count": 15,
     "metadata": {},
     "output_type": "execute_result"
    }
   ],
   "source": [
    "evaluate(\n",
    "    \"rps\", #environment to use - no need to change\n",
    "    [\"scissors_agent.py\", \"statistical\"], #agents to evaluate\n",
    "    configuration={\"episodeSteps\": 100}, #number of episodes\n",
    ")"
   ]
  },
  {
   "cell_type": "markdown",
   "id": "04e06bd3",
   "metadata": {},
   "source": [
    "### Бот, всегда играющий случайным образом"
   ]
  },
  {
   "cell_type": "code",
   "execution_count": 17,
   "id": "34788632",
   "metadata": {},
   "outputs": [
    {
     "name": "stdout",
     "output_type": "stream",
     "text": [
      "Writing random_opponent.py\n"
     ]
    }
   ],
   "source": [
    "%%writefile random_opponent.py\n",
    "\n",
    "import random\n",
    "\n",
    "def random_opponent(observation, configuration):\n",
    "    return random.randrange(0, configuration.signs)"
   ]
  },
  {
   "cell_type": "code",
   "execution_count": 18,
   "id": "1a909269",
   "metadata": {},
   "outputs": [
    {
     "data": {
      "text/plain": [
       "[[0, 0]]"
      ]
     },
     "execution_count": 18,
     "metadata": {},
     "output_type": "execute_result"
    }
   ],
   "source": [
    "evaluate(\n",
    "    \"rps\", #environment to use - no need to change\n",
    "    [\"random_opponent.py\", \"statistical\"], #agents to evaluate\n",
    "    configuration={\"episodeSteps\": 100}, #number of episodes\n",
    ")"
   ]
  },
  {
   "cell_type": "markdown",
   "id": "e57a32d7",
   "metadata": {},
   "source": [
    "### Бот, никогда не играющий камнем"
   ]
  },
  {
   "cell_type": "code",
   "execution_count": 22,
   "id": "647539ed",
   "metadata": {},
   "outputs": [
    {
     "name": "stdout",
     "output_type": "stream",
     "text": [
      "Writing not_rock.py\n"
     ]
    }
   ],
   "source": [
    "%%writefile not_rock.py\n",
    "\n",
    "import random\n",
    "def not_rock(observation, configuration):\n",
    "    return random.randrange(1, configuration.signs)"
   ]
  },
  {
   "cell_type": "markdown",
   "id": "6f738576",
   "metadata": {},
   "source": [
    "### Бот, никогда не играющий бумагой"
   ]
  },
  {
   "cell_type": "code",
   "execution_count": 23,
   "id": "02b3898d",
   "metadata": {},
   "outputs": [
    {
     "name": "stdout",
     "output_type": "stream",
     "text": [
      "Writing not_paper.py\n"
     ]
    }
   ],
   "source": [
    "%%writefile not_paper.py\n",
    "\n",
    "import random\n",
    "\n",
    "def not_paper(observation, configuration):\n",
    "    return random.randrange(0, configuration.signs, 2)"
   ]
  },
  {
   "cell_type": "markdown",
   "id": "5ceee180",
   "metadata": {},
   "source": [
    "### Бот, никогда не играющий ножницами"
   ]
  },
  {
   "cell_type": "code",
   "execution_count": 25,
   "id": "2b6a9403",
   "metadata": {},
   "outputs": [
    {
     "name": "stdout",
     "output_type": "stream",
     "text": [
      "Writing not_scissors.py\n"
     ]
    }
   ],
   "source": [
    "%%writefile not_scissors.py\n",
    "\n",
    "import random\n",
    "\n",
    "def not_scissors(observation, configuration):\n",
    "    return random.randrange(0, configuration.signs - 1)"
   ]
  },
  {
   "cell_type": "markdown",
   "id": "0d2726fe",
   "metadata": {},
   "source": [
    "### Бот, повторяющий ход оппонента на прошлом ходу"
   ]
  },
  {
   "cell_type": "code",
   "execution_count": 28,
   "id": "b0071ba6",
   "metadata": {},
   "outputs": [
    {
     "name": "stdout",
     "output_type": "stream",
     "text": [
      "Writing copy_opponent.py\n"
     ]
    }
   ],
   "source": [
    "%%writefile copy_opponent.py\n",
    "\n",
    "import random\n",
    "\n",
    "def copy_opponent(observation, configuration):\n",
    "    if observation.step > 0:\n",
    "        return observation.lastOpponentAction\n",
    "    else:\n",
    "        return random.randrange(0, configuration.signs)"
   ]
  },
  {
   "cell_type": "markdown",
   "id": "0b88d3e9",
   "metadata": {},
   "source": [
    "### Бот, выкидывающий по очереди камень, бумагу и ножницы"
   ]
  },
  {
   "cell_type": "code",
   "execution_count": 30,
   "id": "3582dc4b",
   "metadata": {},
   "outputs": [
    {
     "name": "stdout",
     "output_type": "stream",
     "text": [
      "Writing sequence_agent.py\n"
     ]
    }
   ],
   "source": [
    "%%writefile sequence_agent.py\n",
    "\n",
    "counter = -1\n",
    "\n",
    "def sequence(observation, configuration):\n",
    "    global counter\n",
    "    counter += 1\n",
    "    if counter % 3 == 0:\n",
    "        return 0\n",
    "    elif counter % 3 == 1:\n",
    "        return 1\n",
    "    else:\n",
    "        return 2"
   ]
  },
  {
   "cell_type": "code",
   "execution_count": 31,
   "id": "90de44a6",
   "metadata": {},
   "outputs": [
    {
     "data": {
      "text/plain": [
       "[[0, 0]]"
      ]
     },
     "execution_count": 31,
     "metadata": {},
     "output_type": "execute_result"
    }
   ],
   "source": [
    "evaluate(\n",
    "    \"rps\", #environment to use - no need to change\n",
    "    [\"sequence_agent.py\", \"statistical\"], #agents to evaluate\n",
    "    configuration={\"episodeSteps\": 100}, #number of episodes\n",
    ")"
   ]
  },
  {
   "cell_type": "markdown",
   "id": "846dd47b",
   "metadata": {},
   "source": [
    "### Бот, выкидывающий равновероятно то, что не выкинул оппонент на прошлом ходу"
   ]
  },
  {
   "cell_type": "code",
   "execution_count": 33,
   "id": "1f27c42b",
   "metadata": {},
   "outputs": [
    {
     "name": "stdout",
     "output_type": "stream",
     "text": [
      "Writing opposit_agent.py\n"
     ]
    }
   ],
   "source": [
    "%%writefile opposit_agent.py\n",
    "\n",
    "import random\n",
    "\n",
    "def opposit_agent(observation, configuration):\n",
    "    if observation.step > 0:\n",
    "        if observation.lastOpponentAction == 0:\n",
    "            return random.choice([1,2])\n",
    "        elif observation.lastOpponentAction == 1:\n",
    "            return random.choice([0,2])\n",
    "        else:\n",
    "            return random.choice([1,0])\n",
    "    else:\n",
    "        return random.randrange(0, configuration.signs)"
   ]
  },
  {
   "cell_type": "code",
   "execution_count": 35,
   "id": "45d587c2",
   "metadata": {},
   "outputs": [
    {
     "data": {
      "text/plain": [
       "[[0, 0]]"
      ]
     },
     "execution_count": 35,
     "metadata": {},
     "output_type": "execute_result"
    }
   ],
   "source": [
    "evaluate(\n",
    "    \"rps\", #environment to use - no need to change\n",
    "    [\"opposit_agent.py\", \"statistical\"], #agents to evaluate\n",
    "    configuration={\"episodeSteps\": 100}, #number of episodes\n",
    ")\n",
    "\n"
   ]
  },
  {
   "cell_type": "markdown",
   "id": "492212c5",
   "metadata": {},
   "source": [
    "### Бот, выкидывающий +1 к тому, что выкинул оппонент на прошлом ходу"
   ]
  },
  {
   "cell_type": "code",
   "execution_count": 37,
   "id": "e25a8802",
   "metadata": {},
   "outputs": [
    {
     "name": "stdout",
     "output_type": "stream",
     "text": [
      "Writing copynext_opponent.py\n"
     ]
    }
   ],
   "source": [
    "%%writefile copynext_opponent.py\n",
    "\n",
    "import random\n",
    "\n",
    "def copynext_opponent(observation, configuration):\n",
    "    if observation.step > 0:\n",
    "        return (observation.lastOpponentAction + 1) % configuration.signs\n",
    "    else:\n",
    "        return random.randrange(0, configuration.signs)"
   ]
  },
  {
   "cell_type": "code",
   "execution_count": 39,
   "id": "19d754e6",
   "metadata": {},
   "outputs": [
    {
     "data": {
      "text/plain": [
       "[[59.0, -59.0]]"
      ]
     },
     "execution_count": 39,
     "metadata": {},
     "output_type": "execute_result"
    }
   ],
   "source": [
    "evaluate(\n",
    "    \"rps\", #environment to use - no need to change\n",
    "    [\"copynext_opponent.py\", \"statistical\"], #agents to evaluate\n",
    "    configuration={\"episodeSteps\": 100}, #number of episodes\n",
    ")\n",
    "\n"
   ]
  },
  {
   "cell_type": "markdown",
   "id": "e0172246",
   "metadata": {},
   "source": [
    "### Бот, выкидывающий -1 к тому, что выкинул оппонент на прошлом ходу"
   ]
  },
  {
   "cell_type": "code",
   "execution_count": 41,
   "id": "4ec50eca",
   "metadata": {},
   "outputs": [
    {
     "name": "stdout",
     "output_type": "stream",
     "text": [
      "Writing copyprevious_opponent.py\n"
     ]
    }
   ],
   "source": [
    "%%writefile copyprevious_opponent.py\n",
    "\n",
    "import random\n",
    "\n",
    "def copyprevious_opponent(observation, configuration):\n",
    "    if observation.step > 0:\n",
    "        return (observation.lastOpponentAction + 2) % configuration.signs\n",
    "    else:\n",
    "        return random.randrange(0, configuration.signs)"
   ]
  },
  {
   "cell_type": "code",
   "execution_count": 42,
   "id": "1b5cb497",
   "metadata": {},
   "outputs": [
    {
     "data": {
      "text/plain": [
       "[[-96.0, 96.0]]"
      ]
     },
     "execution_count": 42,
     "metadata": {},
     "output_type": "execute_result"
    }
   ],
   "source": [
    "evaluate(\n",
    "    \"rps\", #environment to use - no need to change\n",
    "    [\"copyprevious_opponent.py\", \"statistical\"], #agents to evaluate\n",
    "    configuration={\"episodeSteps\": 100}, #number of episodes\n",
    ")"
   ]
  },
  {
   "cell_type": "markdown",
   "id": "e0e35f6b",
   "metadata": {},
   "source": [
    "# Турнир"
   ]
  },
  {
   "cell_type": "code",
   "execution_count": 44,
   "id": "ef53dced",
   "metadata": {},
   "outputs": [],
   "source": [
    "agents = ['rock_agent.py',\n",
    "          'paper_agent.py',\n",
    "          'scissors_agent.py',\n",
    "          'random_opponent.py',\n",
    "          'not_rock.py',\n",
    "          'not_paper.py',\n",
    "          'not_scissors.py', \n",
    "          'opposit_agent.py',\n",
    "          'copy_opponent.py',\n",
    "          'copynext_opponent.py',\n",
    "          'copyprevious_opponent.py', \n",
    "          'sequence_agent.py']"
   ]
  },
  {
   "cell_type": "code",
   "execution_count": 49,
   "id": "189dccc4",
   "metadata": {},
   "outputs": [],
   "source": [
    "rank = {agent: 0 for agent in agents}\n",
    "\n",
    "for times in range(3):\n",
    "# сколько раундов сыграет каждая пара\n",
    "          \n",
    "    for i in range(len(agents)):\n",
    "        for j in range(i+1, len(agents)):\n",
    "            e = evaluate(\n",
    "            \"rps\", #environment to use - no need to change\n",
    "            [agents[i], agents[j]], #agents to evaluate\n",
    "            configuration={\"episodeSteps\": 100, 'tieRewardThreshold': 1} #number of episodes \n",
    "            )\n",
    "            if e[0][0] > e[0][1]:\n",
    "                rank[agents[i]] += 1\n",
    "            elif e[0][0] < e[0][1]:\n",
    "                rank[agents[j]] += 1"
   ]
  },
  {
   "cell_type": "markdown",
   "id": "920deaca",
   "metadata": {},
   "source": [
    "# Итог"
   ]
  },
  {
   "cell_type": "code",
   "execution_count": 51,
   "id": "cc10db34",
   "metadata": {},
   "outputs": [
    {
     "data": {
      "text/html": [
       "<div>\n",
       "<style scoped>\n",
       "    .dataframe tbody tr th:only-of-type {\n",
       "        vertical-align: middle;\n",
       "    }\n",
       "\n",
       "    .dataframe tbody tr th {\n",
       "        vertical-align: top;\n",
       "    }\n",
       "\n",
       "    .dataframe thead th {\n",
       "        text-align: right;\n",
       "    }\n",
       "</style>\n",
       "<table border=\"1\" class=\"dataframe\">\n",
       "  <thead>\n",
       "    <tr style=\"text-align: right;\">\n",
       "      <th></th>\n",
       "      <th>Выигранные партии каждым ботом - итоговый рейтинг</th>\n",
       "    </tr>\n",
       "  </thead>\n",
       "  <tbody>\n",
       "    <tr>\n",
       "      <th>copynext_opponent.py</th>\n",
       "      <td>26</td>\n",
       "    </tr>\n",
       "    <tr>\n",
       "      <th>not_paper.py</th>\n",
       "      <td>19</td>\n",
       "    </tr>\n",
       "    <tr>\n",
       "      <th>opposit_agent.py</th>\n",
       "      <td>19</td>\n",
       "    </tr>\n",
       "    <tr>\n",
       "      <th>scissors_agent.py</th>\n",
       "      <td>17</td>\n",
       "    </tr>\n",
       "    <tr>\n",
       "      <th>not_rock.py</th>\n",
       "      <td>17</td>\n",
       "    </tr>\n",
       "    <tr>\n",
       "      <th>random_opponent.py</th>\n",
       "      <td>16</td>\n",
       "    </tr>\n",
       "    <tr>\n",
       "      <th>rock_agent.py</th>\n",
       "      <td>14</td>\n",
       "    </tr>\n",
       "    <tr>\n",
       "      <th>not_scissors.py</th>\n",
       "      <td>13</td>\n",
       "    </tr>\n",
       "    <tr>\n",
       "      <th>paper_agent.py</th>\n",
       "      <td>12</td>\n",
       "    </tr>\n",
       "    <tr>\n",
       "      <th>copy_opponent.py</th>\n",
       "      <td>11</td>\n",
       "    </tr>\n",
       "    <tr>\n",
       "      <th>copyprevious_opponent.py</th>\n",
       "      <td>8</td>\n",
       "    </tr>\n",
       "    <tr>\n",
       "      <th>sequence_agent.py</th>\n",
       "      <td>8</td>\n",
       "    </tr>\n",
       "  </tbody>\n",
       "</table>\n",
       "</div>"
      ],
      "text/plain": [
       "                          Выигранные партии каждым ботом - итоговый рейтинг\n",
       "copynext_opponent.py                                                     26\n",
       "not_paper.py                                                             19\n",
       "opposit_agent.py                                                         19\n",
       "scissors_agent.py                                                        17\n",
       "not_rock.py                                                              17\n",
       "random_opponent.py                                                       16\n",
       "rock_agent.py                                                            14\n",
       "not_scissors.py                                                          13\n",
       "paper_agent.py                                                           12\n",
       "copy_opponent.py                                                         11\n",
       "copyprevious_opponent.py                                                  8\n",
       "sequence_agent.py                                                         8"
      ]
     },
     "execution_count": 51,
     "metadata": {},
     "output_type": "execute_result"
    }
   ],
   "source": [
    "rank_se = pd.Series(rank, name=\"Выигранные партии каждым ботом - итоговый рейтинг\").sort_values(ascending=False).to_frame()\n",
    "rank_se"
   ]
  },
  {
   "cell_type": "code",
   "execution_count": null,
   "id": "2ef05b75",
   "metadata": {},
   "outputs": [],
   "source": []
  },
  {
   "cell_type": "code",
   "execution_count": null,
   "id": "9019f8bd",
   "metadata": {},
   "outputs": [],
   "source": []
  }
 ],
 "metadata": {
  "kernelspec": {
   "display_name": "Python 3 (ipykernel)",
   "language": "python",
   "name": "python3"
  },
  "language_info": {
   "codemirror_mode": {
    "name": "ipython",
    "version": 3
   },
   "file_extension": ".py",
   "mimetype": "text/x-python",
   "name": "python",
   "nbconvert_exporter": "python",
   "pygments_lexer": "ipython3",
   "version": "3.9.12"
  }
 },
 "nbformat": 4,
 "nbformat_minor": 5
}
